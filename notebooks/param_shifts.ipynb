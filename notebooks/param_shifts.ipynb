{
 "cells": [
  {
   "cell_type": "markdown",
   "id": "bd1e5d64-13f2-4e38-ba68-97c72f6b3cec",
   "metadata": {},
   "source": [
    "# Analyse how $\\theta_{BAO}$ is affected by shifts in parameters in EDE+$M_\\nu$ model"
   ]
  },
  {
   "cell_type": "code",
   "execution_count": 1,
   "id": "243ea4ac",
   "metadata": {},
   "outputs": [],
   "source": [
    "#import required modules\n",
    "import matplotlib\n",
    "import matplotlib.pyplot as plt\n",
    "import numpy as np\n",
    "from classy import Class\n",
    "from scipy import interpolate\n",
    "import pickle\n",
    "import classy \n",
    "\n",
    "matplotlib.rcParams['axes.linewidth'] = 10\n",
    "matplotlib.rcParams['font.family'] = 'serif'\n",
    "matplotlib.rcParams['axes.labelsize'] = 75\n",
    "matplotlib.rcParams['xtick.labelsize'] = 65 \n",
    "matplotlib.rcParams['ytick.labelsize'] = 65\n",
    "matplotlib.rcParams['legend.fontsize'] = 150\n",
    "matplotlib.rcParams['axes.labelpad'] = 100"
   ]
  },
  {
   "cell_type": "code",
   "execution_count": 2,
   "id": "e3c79632",
   "metadata": {},
   "outputs": [],
   "source": [
    "fn_006 = '../bestfit/mnu_006.bestfit'\n",
    "fn_009 = '../bestfit/mnu_009.bestfit'\n",
    "fn_012 = '../bestfit/mnu_012.bestfit'\n",
    "fn_015 = '../bestfit/mnu_015.bestfit'\n",
    "fn_018 = '../bestfit/mnu_018.bestfit'\n",
    "fn_024 = '../bestfit/mnu_024.bestfit'\n",
    "fn_03 = '../bestfit/mnu_03.bestfit'\n",
    "fn_lcdm = '../bestfit/LCDM.bestfit'"
   ]
  },
  {
   "cell_type": "code",
   "execution_count": 3,
   "id": "47e236d6",
   "metadata": {},
   "outputs": [],
   "source": [
    "bfs_dict={}"
   ]
  },
  {
   "cell_type": "code",
   "execution_count": 4,
   "id": "4c714345",
   "metadata": {},
   "outputs": [
    {
     "name": "stdout",
     "output_type": "stream",
     "text": [
      "62\n"
     ]
    }
   ],
   "source": [
    "#save the lcdm data in a dictionary \n",
    "\n",
    "with open(fn_lcdm) as f:\n",
    "    bfs_dict['lcdm'] = {}\n",
    "    for line in f: \n",
    "        if line.split()[0] == '#':\n",
    "            print(len(line.split()))\n",
    "            names = [line.split()[k].replace(',', '') for k in range(1,62)]\n",
    "        else: \n",
    "            vals = line.split()\n",
    "    for j in range(len(vals)):\n",
    "        bfs_dict['lcdm'][names[j]] = vals[j]\n"
   ]
  },
  {
   "cell_type": "code",
   "execution_count": 5,
   "id": "67d376d1",
   "metadata": {},
   "outputs": [],
   "source": [
    "fns = [fn_006,fn_009,fn_012,fn_015,fn_018,fn_024,fn_03]\n",
    "mnus= [6,9,12,15,18,24,30]\n"
   ]
  },
  {
   "cell_type": "code",
   "execution_count": 6,
   "id": "377325bf",
   "metadata": {},
   "outputs": [],
   "source": [
    "i=0\n",
    "for fn in fns: \n",
    "    with open(fn) as f:\n",
    "        bfs_dict[f'{mnus[i]}'] = {}\n",
    "        for line in f: \n",
    "            if line.split()[0] == '#':\n",
    "                names = [line.split()[k].replace(',', '') for k in range(1,65)]\n",
    "            else: \n",
    "                vals = line.split()\n",
    "        for j in range(len(vals)):\n",
    "            bfs_dict[f'{mnus[i]}'][names[j]] = vals[j]\n",
    "\n",
    "    i+=1"
   ]
  },
  {
   "cell_type": "code",
   "execution_count": 7,
   "id": "997db3a0",
   "metadata": {},
   "outputs": [],
   "source": [
    "mnu_006_dict= bfs_dict['6']\n",
    "mnu_012_dict= bfs_dict['12']\n",
    "mnu_018_dict= bfs_dict['18']\n",
    "mnu_024_dict= bfs_dict['24']\n",
    "mnu_03_dict= bfs_dict['30']\n",
    "mnu_015_dict= bfs_dict['15']\n",
    "mnu_009_dict= bfs_dict['9']\n",
    "lcdm_dict = bfs_dict['lcdm']\n"
   ]
  },
  {
   "cell_type": "code",
   "execution_count": 8,
   "id": "ed83c1ce-13cd-4a8f-adbb-eda920f43f54",
   "metadata": {},
   "outputs": [],
   "source": [
    "#function to determine physical densities from bf files (useful for analysis but not strictly needed)\n",
    "def get_phys_densities(dict):\n",
    "    H_0 = float(dict['H0'])\n",
    "    fac = (H_0/100)**2\n",
    "    Omega_m = float(dict['Omega_m'])\n",
    "    Omega_lam = 1-Omega_m\n",
    "    om = Omega_m * fac \n",
    "    ol = Omega_lam*fac\n",
    "    \n",
    "    return om, ol \n"
   ]
  },
  {
   "cell_type": "markdown",
   "id": "54d08364-f29f-42f4-ae96-0f09c5dffcd1",
   "metadata": {},
   "source": [
    "### Set the parameters for the CLASS instances \n",
    "\n",
    "This is a test to see how varying different parameters whilst keeping others fixed (in particular $\\theta_s$). To perform this we take as a baseline the bestfit to a model with $M_\\nu=0.06eV$ and then perturb around this by inserting the bestfit model parameters of the $M_\\nu=0.24eV$ model. "
   ]
  },
  {
   "cell_type": "code",
   "execution_count": 9,
   "id": "0f3d0a3b-69fc-461f-a999-7e8afc58ce2e",
   "metadata": {},
   "outputs": [],
   "source": [
    "#BEST FIT PARAMS FROM BF with LCDM model  \n",
    "LCDM_settings = {'output':'tCl pCl lCl mPk', \n",
    "                 '100*theta_s': lcdm_dict['100*theta_s'],\n",
    "                 'ln10^{10}A_s': lcdm_dict['ln10^{10}A_s'],\n",
    "                 'n_s': lcdm_dict['n_s'],\n",
    "                 'omega_b':  float(lcdm_dict['omega_b']),\n",
    "                 'omega_cdm': lcdm_dict['omega_cdm'],\n",
    "                 'tau_reio': lcdm_dict['tau_reio'],\n",
    "                 'l_max_scalars':3508,\n",
    "                 'non linear':'HMcode',\n",
    "                 'P_k_max_h/Mpc':30,\n",
    "                 'Omega_Lambda':0,                      \n",
    "                 'Omega_fld':0,                         \n",
    "                 'Omega_scf': -1,                        #scf\n",
    "                 'scf_parameters':'1, 1, 1, 1, 1, 0.0', #scf\n",
    "                 'scf_tuning_index':3,                  #scf\n",
    "                 'attractor_ic_scf':'no',               #scf\n",
    "                 'n_scf':3,                             #scf\n",
    "                 'CC_scf':1,                            #scf\n",
    "                 'f_scf': np.power(10,26.59913),        #scf                              \n",
    "                 'm_scf': 0,                            #scf: this guarantees fEDE is 0 (otherwise hard to force)\n",
    "                 'thetai_scf': 2.83,        \n",
    "                 'z_max_pk':2.}"
   ]
  },
  {
   "cell_type": "code",
   "execution_count": 10,
   "id": "315af5d9-e954-4f97-8a77-9788477c81c3",
   "metadata": {},
   "outputs": [],
   "source": [
    "LCDM = Class()\n",
    "LCDM.set(LCDM_settings)\n",
    "LCDM.compute()"
   ]
  },
  {
   "cell_type": "code",
   "execution_count": 11,
   "id": "4830ca3e",
   "metadata": {},
   "outputs": [],
   "source": [
    "EDE_pp_params= {'100*theta_s': mnu_006_dict['100*theta_s'],\n",
    "         'log10z_c': mnu_006_dict['log10z_c'],\n",
    "         'thetai_scf': mnu_006_dict['thetai_scf'],\n",
    "         'ln10^{10}A_s': mnu_006_dict['ln10^{10}A_s'],\n",
    "         'n_s': mnu_006_dict['n_s'],\n",
    "         'omega_b':  float(mnu_006_dict['omega_b']),\n",
    "         'omega_cdm': mnu_006_dict['omega_cdm'],\n",
    "         'tau_reio': mnu_006_dict['tau_reio'],\n",
    "         'fEDE': mnu_006_dict['fEDE'],\n",
    "         'N_ncdm':1,\n",
    "         'm_ncdm': 0.06,\n",
    "         'N_ur':2.0328, \n",
    "         'Omega_Lambda':0.0, #set to zero as included in potential function! \n",
    "         'Omega_fld':0, \n",
    "         'Omega_scf':-1, \n",
    "         'n_scf':3, #n-value for potential \n",
    "         'CC_scf':1, \n",
    "         'scf_parameters':'1, 1, 1, 1, 1, 0.0', \n",
    "         'scf_tuning_index':3, \n",
    "         'attractor_ic_scf':'no', \n",
    "         'output':'tCl pCl lCl mPk', \n",
    "         'lensing':'yes', \n",
    "         'l_max_scalars':3508, \n",
    "         'P_k_max_h/Mpc':30,\n",
    "         'z_max_pk':2.}\n",
    "\n",
    "EDE_high_mnu_params= {'100*theta_s': mnu_006_dict['100*theta_s'],\n",
    "         'log10z_c': mnu_006_dict['log10z_c'],\n",
    "         'thetai_scf': mnu_006_dict['thetai_scf'],\n",
    "         'ln10^{10}A_s': mnu_006_dict['ln10^{10}A_s'],\n",
    "         'n_s': mnu_006_dict['n_s'],\n",
    "         'omega_b':  float(mnu_006_dict['omega_b']),\n",
    "         'omega_cdm': mnu_006_dict['omega_cdm'],\n",
    "         'tau_reio': mnu_006_dict['tau_reio'],\n",
    "         'fEDE': mnu_006_dict['fEDE'],\n",
    "         'N_ncdm':1,\n",
    "         'm_ncdm': 0.24,\n",
    "         'N_ur':2.0328, \n",
    "         'Omega_Lambda':0.0, #set to zero as included in potential function! \n",
    "         'Omega_fld':0, \n",
    "         'Omega_scf':-1, \n",
    "         'n_scf':3, #n-value for potential \n",
    "         'CC_scf':1, \n",
    "         'scf_parameters':'1, 1, 1, 1, 1, 0.0', \n",
    "         'scf_tuning_index':3, \n",
    "         'attractor_ic_scf':'no', \n",
    "         'output':'tCl pCl lCl mPk', \n",
    "         'lensing':'yes', \n",
    "         'l_max_scalars':3508, \n",
    "         'P_k_max_h/Mpc':30,\n",
    "         'z_max_pk':2.}\n",
    "\n",
    "\n",
    "EDE_high_cdm_params= {'100*theta_s': mnu_006_dict['100*theta_s'],\n",
    "         'log10z_c': mnu_006_dict['log10z_c'],\n",
    "         'thetai_scf': mnu_006_dict['thetai_scf'],\n",
    "         'ln10^{10}A_s': mnu_006_dict['ln10^{10}A_s'],\n",
    "         'n_s': mnu_006_dict['n_s'],\n",
    "         'omega_b':  float(mnu_006_dict['omega_b']),\n",
    "         'omega_cdm': mnu_024_dict['omega_cdm'],\n",
    "         'tau_reio': mnu_006_dict['tau_reio'],\n",
    "         'fEDE': mnu_006_dict['fEDE'],\n",
    "         'N_ncdm':1,\n",
    "         'm_ncdm': 0.06,\n",
    "         'N_ur':2.0328, \n",
    "         'Omega_Lambda':0.0, #set to zero as included in potential function! \n",
    "         'Omega_fld':0, \n",
    "         'Omega_scf':-1, \n",
    "         'n_scf':3, #n-value for potential \n",
    "         'CC_scf':1, \n",
    "         'scf_parameters':'1, 1, 1, 1, 1, 0.0', \n",
    "         'scf_tuning_index':3, \n",
    "         'attractor_ic_scf':'no', \n",
    "         'output':'tCl pCl lCl mPk', \n",
    "         'lensing':'yes', \n",
    "         'l_max_scalars':3508, \n",
    "         'P_k_max_h/Mpc':30,\n",
    "         'z_max_pk':2.}\n",
    "\n",
    "\n",
    "EDE_high_fede_params= {'100*theta_s': mnu_006_dict['100*theta_s'],\n",
    "         'log10z_c': mnu_006_dict['log10z_c'],\n",
    "         'thetai_scf': mnu_006_dict['thetai_scf'],\n",
    "         'ln10^{10}A_s': mnu_006_dict['ln10^{10}A_s'],\n",
    "         'n_s': mnu_006_dict['n_s'],\n",
    "         'omega_b':  float(mnu_006_dict['omega_b']),\n",
    "         'omega_cdm': mnu_006_dict['omega_cdm'],\n",
    "         'tau_reio': mnu_006_dict['tau_reio'],\n",
    "         'fEDE': mnu_024_dict['fEDE'],\n",
    "         'N_ncdm':1,\n",
    "         'm_ncdm': 0.06,\n",
    "         'N_ur':2.0328, \n",
    "         'Omega_Lambda':0.0, #set to zero as included in potential function! \n",
    "         'Omega_fld':0, \n",
    "         'Omega_scf':-1, \n",
    "         'n_scf':3, #n-value for potential \n",
    "         'CC_scf':1, \n",
    "         'scf_parameters':'1, 1, 1, 1, 1, 0.0', \n",
    "         'scf_tuning_index':3, \n",
    "         'attractor_ic_scf':'no', \n",
    "         'output':'tCl pCl lCl mPk', \n",
    "         'lensing':'yes', \n",
    "         'l_max_scalars':3508, \n",
    "         'P_k_max_h/Mpc':30,\n",
    "         'z_max_pk':2.}\n",
    "\n",
    "EDE_simultaneous_params= {'100*theta_s': mnu_006_dict['100*theta_s'],\n",
    "         'log10z_c': mnu_006_dict['log10z_c'],\n",
    "         'thetai_scf': mnu_006_dict['thetai_scf'],\n",
    "         'ln10^{10}A_s': mnu_006_dict['ln10^{10}A_s'],\n",
    "         'n_s': mnu_006_dict['n_s'],\n",
    "         'omega_b':  float(mnu_006_dict['omega_b']),\n",
    "         'omega_cdm': mnu_024_dict['omega_cdm'],\n",
    "         'tau_reio': mnu_006_dict['tau_reio'],\n",
    "         'fEDE': mnu_024_dict['fEDE'],\n",
    "         'N_ncdm':1,\n",
    "         'm_ncdm': 0.24,\n",
    "         'N_ur':2.0328, \n",
    "         'Omega_Lambda':0.0, #set to zero as included in potential function! \n",
    "         'Omega_fld':0, \n",
    "         'Omega_scf':-1, \n",
    "         'n_scf':3, #n-value for potential \n",
    "         'CC_scf':1, \n",
    "         'scf_parameters':'1, 1, 1, 1, 1, 0.0', \n",
    "         'scf_tuning_index':3, \n",
    "         'attractor_ic_scf':'no', \n",
    "         'output':'tCl pCl lCl mPk', \n",
    "         'lensing':'yes', \n",
    "         'l_max_scalars':3508, \n",
    "         'P_k_max_h/Mpc':30,\n",
    "         'z_max_pk':2.}"
   ]
  },
  {
   "cell_type": "code",
   "execution_count": 12,
   "id": "026366a6",
   "metadata": {},
   "outputs": [],
   "source": [
    "EDE_pp = Class()\n",
    "EDE_pp.set(EDE_pp_params)\n",
    "EDE_pp.compute()"
   ]
  },
  {
   "cell_type": "code",
   "execution_count": 13,
   "id": "284d6e35-d92c-45f2-9731-545042b9df8d",
   "metadata": {},
   "outputs": [],
   "source": [
    "EDE_high_mnu = Class()\n",
    "EDE_high_mnu.set(EDE_high_mnu_params)\n",
    "EDE_high_mnu.compute()"
   ]
  },
  {
   "cell_type": "code",
   "execution_count": 14,
   "id": "f682dfe9-a459-4801-9bb2-6229fc14652f",
   "metadata": {},
   "outputs": [],
   "source": [
    "EDE_high_cdm = Class()\n",
    "EDE_high_cdm.set(EDE_high_cdm_params)\n",
    "EDE_high_cdm.compute()"
   ]
  },
  {
   "cell_type": "code",
   "execution_count": 15,
   "id": "2bd0ebdc",
   "metadata": {},
   "outputs": [],
   "source": [
    "EDE_high_fede = Class()\n",
    "EDE_high_fede.set(EDE_high_fede_params)\n",
    "EDE_high_fede.compute()"
   ]
  },
  {
   "cell_type": "code",
   "execution_count": 16,
   "id": "f99af3b8-0297-44fd-ad99-57bc4f1c4891",
   "metadata": {},
   "outputs": [],
   "source": [
    "EDE_simultaneous = Class()\n",
    "EDE_simultaneous.set(EDE_simultaneous_params)\n",
    "EDE_simultaneous.compute()"
   ]
  },
  {
   "cell_type": "code",
   "execution_count": 17,
   "id": "413c5dc1",
   "metadata": {},
   "outputs": [
    {
     "ename": "NameError",
     "evalue": "name 'EDE_mnu024_024bf' is not defined",
     "output_type": "error",
     "traceback": [
      "\u001b[0;31m---------------------------------------------------------------------------\u001b[0m",
      "\u001b[0;31mNameError\u001b[0m                                 Traceback (most recent call last)",
      "Input \u001b[0;32mIn [17]\u001b[0m, in \u001b[0;36m<cell line: 3>\u001b[0;34m()\u001b[0m\n\u001b[1;32m      1\u001b[0m rs_lcdm \u001b[38;5;241m=\u001b[39m LCDM\u001b[38;5;241m.\u001b[39mrs_drag()\n\u001b[1;32m      2\u001b[0m rs_ede_pp \u001b[38;5;241m=\u001b[39m EDE_pp\u001b[38;5;241m.\u001b[39mrs_drag()\n\u001b[0;32m----> 3\u001b[0m rs_EDE_high_mnu \u001b[38;5;241m=\u001b[39m \u001b[43mEDE_mnu024_024bf\u001b[49m\u001b[38;5;241m.\u001b[39mrs_drag()\n\u001b[1;32m      4\u001b[0m rs_EDE_high_cdm \u001b[38;5;241m=\u001b[39m EDE_mnu024_006bf\u001b[38;5;241m.\u001b[39mrs_drag()\n\u001b[1;32m      5\u001b[0m rs_EDE_high_fede \u001b[38;5;241m=\u001b[39m EDE_mnu024_raisefede\u001b[38;5;241m.\u001b[39mrs_drag()\n",
      "\u001b[0;31mNameError\u001b[0m: name 'EDE_mnu024_024bf' is not defined"
     ]
    }
   ],
   "source": [
    "rs_lcdm = LCDM.rs_drag()\n",
    "rs_ede_pp = EDE_pp.rs_drag()\n",
    "rs_EDE_high_mnu = EDE_mnu024_024bf.rs_drag()\n",
    "rs_EDE_high_cdm = EDE_mnu024_006bf.rs_drag()\n",
    "rs_EDE_high_fede = EDE_mnu024_raisefede.rs_drag()\n",
    "rs_EDE_simultaneous = EDE_mnu024_raisefede.rs_drag()"
   ]
  },
  {
   "cell_type": "code",
   "execution_count": null,
   "id": "411e65d4",
   "metadata": {},
   "outputs": [],
   "source": [
    "# #Get background quantities and recover their names:\n",
    "baEDE_pp = EDE_pp.get_background()\n",
    "baLCDM = LCDM.get_background()\n",
    "baEDE_high_mnu = EDE_high_mnu.get_background()\n",
    "baEDE_high_cdm = EDE_high_cdm.get_background()\n",
    "baEDE_high_fede = EDE_high_fede.get_background()\n",
    "baEDE_simultaneous = EDE_simultaneous.get_background()\n",
    "\n",
    "\n",
    "EDE_pp_ang = baEDE_pp['ang.diam.dist.']\n",
    "LCDM_ang = baLCDM['ang.diam.dist.']\n",
    "EDE_high_mnu_ang = baEDE_high_mnu['ang.diam.dist.']\n",
    "EDE_high_cdm_ang = baEDE_high_cdm['ang.diam.dist.']\n",
    "EDE_high_fede_ang = baEDE_high_fede['ang.diam.dist.']\n",
    "EDE_simultaneous_ang = baEDE_simultaneous['ang.diam.dist.']\n",
    "\n",
    "\n",
    "z_lcdm = baLCDM['z']\n",
    "z_ede_pp = baEDE_pp['z']\n",
    "z_ede_high_mnu = baEDE_high_mnu['z']\n",
    "z_ede_high_cdm = baEDE_high_cdm['z']\n",
    "z_ede_high_fede = baEDE_high_fede['z']\n",
    "z_ede_simultaneous = baEDE_simultaneous['z']\n",
    "\n",
    "#Form the spherically averaged D_v  \n",
    "#Made unitless as we look at ratios anyway \n",
    "LCDM_dv = ((((np.ones_like(z_lcdm)+z_lcdm)*LCDM_ang)**2)*z_lcdm/baLCDM['H [1/Mpc]'])**(1/3) \n",
    "EDE_pp_dv =((((np.ones_like(z_lcdm)+z_ede_pp)*EDE_pp_ang)**2)*z_ede_pp/baEDE_pp['H [1/Mpc]'])**(1/3)\n",
    "EDE_high_mnu_dv =((((np.ones_like(z_lcdm)+z_ede_high_mnu)*EDE_high_mnu_ang)**2)*z_ede_high_mnu/baEDE_high_mnu['H [1/Mpc]'])**(1/3)\n",
    "EDE_high_cdm_dv =((((np.ones_like(z_lcdm)+z_ede_high_cdm)*EDE_high_cdm_ang)**2)*z_ede_high_cdm/baEDE_high_cdm['H [1/Mpc]'])**(1/3)\n",
    "EDE_high_fede_dv =((((np.ones_like(z_lcdm)+z_ede_high_fede)*EDE_high_fede_ang)**2)*z_ede_high_fede/baEDE_high_fede['H [1/Mpc]'])**(1/3)\n",
    "EDE_simultaneous_dv =((((np.ones_like(z_lcdm)+z_ede_simultaneous)*EDE_simultaneous_ang)**2)*z_ede_simultaneous/baEDE_simultaneous['H [1/Mpc]'])**(1/3)\n",
    "\n",
    "\n",
    "EDE_pp_ratios = EDE_pp_dv/rs_ede_pp\n",
    "LCDM_ratios = LCDM_dv/rs_lcdm\n",
    "EDE_high_mnu_ratios = EDE_high_mnu_dv/rs_EDE_high_mnu\n",
    "EDE_high_cdm_ratios = EDE_mnu024_006bf_dv/rs_EDE_high_cdm\n",
    "EDE_high_fede_ratios = EDE_mnu024_raisefede_dv/rs_EDE_high_fede\n",
    "EDE_simultaneous_ratios = EDE_mnu024_raisefede_dv/rs_EDE_simultaneous"
   ]
  },
  {
   "cell_type": "code",
   "execution_count": null,
   "id": "b76332c0",
   "metadata": {},
   "outputs": [],
   "source": [
    "#making an interpolation to match up the z values for different experiments \n",
    "EDE_pp_spline = interpolate.InterpolatedUnivariateSpline(np.flip(z_ede_pp),np.flip(EDE_pp_ratios))\n",
    "EDE_high_mnu_spline = interpolate.InterpolatedUnivariateSpline(np.flip(z_ede_high_mnu),np.flip(EDE_high_mnu_ratios))\n",
    "EDE_high_cdm_spline = interpolate.InterpolatedUnivariateSpline(np.flip(z_ede_high_cdm),np.flip(EDE_high_cdm_ratios))\n",
    "EDE_high_fede_spline = interpolate.InterpolatedUnivariateSpline(np.flip(z_ede_high_fede),np.flip(EDE_high_fede_ratios))\n",
    "EDE_simultaneous_spline = interpolate.InterpolatedUnivariateSpline(np.flip(z_ede_simultaneous),np.flip(EDE_simultaneous_ratios))"
   ]
  },
  {
   "cell_type": "code",
   "execution_count": null,
   "id": "c983d796",
   "metadata": {},
   "outputs": [],
   "source": [
    "EDE_pp_out = EDE_pp_spline(z_lcdm)\n",
    "EDE_high_mnu_out = EDE_high_mnu_spline(z_lcdm)\n",
    "EDE_high_cdm_out = EDE_high_cdm_spline(z_lcdm)\n",
    "EDE_high_fede_out = EDE_high_fede_spline(z_lcdm)\n",
    "EDE_simultaneous_out = EDE_simultaneous_spline(z_lcdm)"
   ]
  },
  {
   "cell_type": "code",
   "execution_count": null,
   "id": "fdc4e2cd-a4aa-4bc3-915e-60a859ef3038",
   "metadata": {},
   "outputs": [],
   "source": [
    "#THE BOSS DATA POINTS: \n",
    "rd_fid = 147.78 #MPc (fiducial r_d value used in paper)\n",
    "\n",
    "boss_zs = [0.38,0.61] #the average redshifts at which the BOSS data is collected \n",
    "\n",
    "boss_vals = np.array([1477,2140]) #The average values of D_v * rd_fid/r_d from the BOSS data section 8.2 eqts 21-23 in https://arxiv.org/pdf/1607.03155.pdf\n",
    "\n",
    "boss_vals = boss_vals/rd_fid\n",
    "\n",
    "z_038 = np.where((z_lcdm<=0.38) & (z_lcdm>=0.379))[0][0]\n",
    "\n",
    "# z_051 = np.where((z_lcdm<=0.51) & (z_lcdm>=0.509))[0][0]\n",
    "\n",
    "z_061 = np.where((z_lcdm<=0.61) & (z_lcdm>=0.609))[0][0]\n",
    "\n",
    "lcdm_reference_vals = np.array([LCDM_ratios[z_038], LCDM_ratios[z_061]])\n",
    "boss_ratios = boss_vals/lcdm_reference_vals\n"
   ]
  },
  {
   "cell_type": "markdown",
   "id": "ee92478a-e8ff-4091-b701-118b0faa437d",
   "metadata": {},
   "source": [
    "### Plot the different $\\theta_{BAO}$ curves"
   ]
  },
  {
   "cell_type": "code",
   "execution_count": null,
   "id": "7f2f5ed9",
   "metadata": {},
   "outputs": [],
   "source": [
    "fig, ax = plt.subplots(figsize=(20,20))\n",
    "\n",
    "matplotlib.rcParams['legend.fontsize'] = 60\n",
    "\n",
    "ax.loglog(z_lcdm, EDE_pp_out*rs_lcdm/(LCDM_dv), label='mnu006')\n",
    "ax.loglog(z_lcdm, EDE_high_cdm*rs_lcdm/(LCDM_dv),label='raise omega_cdm')\n",
    "ax.loglog(z_lcdm, EDE_high_mnu*rs_lcdm/(LCDM_dv),label='raise m_nu')\n",
    "ax.loglog(z_lcdm, EDE_high_fede*rs_lcdm/(LCDM_dv),label='raisefede')\n",
    "ax.loglog(z_lcdm, EDE_simultaneous*rs_lcdm/(LCDM_dv),label='raise all simultaneously')\n",
    "\n",
    "yerr= np.array([(16/rd_fid),(22/rd_fid)])/lcdm_reference_vals #from the error in the alam paper: https://arxiv.org/pdf/1607.03155.pdf eqts 21-23 in sect. 8.2 consensus BAO + fs results\n",
    "\n",
    "ax.errorbar(boss_zs, boss_ratios, yerr=yerr, fmt='^', color='m', markersize=60)\n",
    "ax.set_xlim(0.01,2000)\n",
    "plt.legend()\n",
    "\n",
    "ax.axvspan(0.2, 0.75, alpha=0.3, color='blue')\n",
    "\n",
    "ax.axvspan(1100, 1110, alpha=0.3, color='magenta')\n",
    "\n",
    "\n",
    "ax.set_xlabel('z')\n",
    "ax.set_ylabel(r'$\\theta_{\\Lambda{\\rm CDM}}(z)/\\theta_{\\rm EDE}(z)$')\n",
    "\n",
    "fig.savefig('d_a_evolution_both.pdf', bbox_inches='tight')"
   ]
  },
  {
   "cell_type": "markdown",
   "id": "52aa4cc0-d2ec-4aca-b12a-44505a181c16",
   "metadata": {},
   "source": [
    "### Take-away \n",
    "\n",
    "This shows how the value of $\\theta_{BAO}$ changes under changes of different parameters. This shows how increasing $f_{EDE}$ can help to bring $\\theta_{BAO}$ closer to data."
   ]
  }
 ],
 "metadata": {
  "kernelspec": {
   "display_name": "mast-new",
   "language": "python",
   "name": "mast-new"
  },
  "language_info": {
   "codemirror_mode": {
    "name": "ipython",
    "version": 3
   },
   "file_extension": ".py",
   "mimetype": "text/x-python",
   "name": "python",
   "nbconvert_exporter": "python",
   "pygments_lexer": "ipython3",
   "version": "3.10.1"
  }
 },
 "nbformat": 4,
 "nbformat_minor": 5
}
